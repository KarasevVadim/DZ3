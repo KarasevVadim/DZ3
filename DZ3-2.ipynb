{
 "cells": [
  {
   "cell_type": "code",
   "execution_count": 48,
   "metadata": {},
   "outputs": [],
   "source": [
    "#Дан список описаний товаров descriptions:\n",
    "descriptions = [\n",
    "[\"браслет\", \"xiaomi\", \"mi\", \"band\", \"2.\", \"умный\", \"браслет\", \"xiaomi\", \"mi\", \"лидер\", \"в\", \"линейке\", \"xiaomi.\", \"фитнес\", \"браслет\", \"для\", \"android\", \"4.4,\", \"ios\", \"7,\", \"экран\", \"oled.\", \"лучший\", \"выбор\", \"xiaomi\"],\n",
    "[\"браслет\", \"huawei\", \"honor\", \"band\", \"3.\", \"фитнес\", \"браслет\", \"влагозащищенный\", \"сенсорный\", \"экран\", \"android,\", \"ios\", \"мониторинг\", \"сна\"],\n",
    "[\"браслет\", \"samsung\", \"gear\", \"fit2\", \"pro.\", \"влагозащищенный\", \"сенсорный\", \"amoled-экран\", \"мониторинг\", \"сна,\", \"калорий,\", \"новинка\", \"samsung\"],\n",
    "]\n",
    "#Есть подозрение, что некоторые описания содержат много дубликатов одних и тех же слов. \n",
    "#Т. е. могут быть переоптимизированными. \n",
    "#Для каждого описания товара выведите на экран разницу между количеством уникальных слов и общим количеством слов \n",
    "#в этом описании."
   ]
  },
  {
   "cell_type": "code",
   "execution_count": 49,
   "metadata": {},
   "outputs": [
    {
     "name": "stdout",
     "output_type": "stream",
     "text": [
      "В 1 описании всего слов - 25 , уникальных - 24 и разница составляет 1\n",
      "В 2 описании всего слов - 14 , уникальных - 13 и разница составляет 1\n",
      "В 3 описании всего слов - 13 , уникальных - 12 и разница составляет 1\n"
     ]
    }
   ],
   "source": [
    "for x in descriptions:\n",
    "    a=0\n",
    "    for i in range(len(x)-1):\n",
    "        if x[i]!=x[i+1]:\n",
    "            a+=1\n",
    "    \n",
    "    print(\"В\",descriptions.index(x)+1, \"описании всего слов -\",len(x),\", уникальных -\",a,\"и разница составляет\",len(x)-a)"
   ]
  },
  {
   "cell_type": "code",
   "execution_count": null,
   "metadata": {},
   "outputs": [],
   "source": []
  }
 ],
 "metadata": {
  "kernelspec": {
   "display_name": "Python 3",
   "language": "python",
   "name": "python3"
  },
  "language_info": {
   "codemirror_mode": {
    "name": "ipython",
    "version": 3
   },
   "file_extension": ".py",
   "mimetype": "text/x-python",
   "name": "python",
   "nbconvert_exporter": "python",
   "pygments_lexer": "ipython3",
   "version": "3.7.1"
  }
 },
 "nbformat": 4,
 "nbformat_minor": 2
}
