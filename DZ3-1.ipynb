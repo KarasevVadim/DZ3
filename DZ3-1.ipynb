{
 "cells": [
  {
   "cell_type": "code",
   "execution_count": 35,
   "metadata": {},
   "outputs": [],
   "source": [
    "#Дана статистика рекламных каналов по объемам продаж. \n",
    "#Напишите скрипт, который возвращает название канала с максимальным объемом.\n",
    "#Т. е. в данном примере скрипт должен возвращать “yandex”.\n",
    "stats = {\"facebook\": 55, \"yandex\": 120, \"vk\": 115, \"google\": 99, \"email\": 42, \"ok\": 98}"
   ]
  },
  {
   "cell_type": "code",
   "execution_count": 36,
   "metadata": {},
   "outputs": [
    {
     "name": "stdout",
     "output_type": "stream",
     "text": [
      "Канал с максимальным объемом продаж - yandex с объемом продаж - 120\n"
     ]
    }
   ],
   "source": [
    "v=0\n",
    "for key, value in stats.items():\n",
    "    if value>v:\n",
    "        v=value\n",
    "        k=key\n",
    "print(\"Канал с максимальным объемом продаж -\",k,\"с объемом продаж -\",v)\n",
    "\n",
    "    \n",
    "        \n",
    "    \n",
    "    "
   ]
  },
  {
   "cell_type": "code",
   "execution_count": null,
   "metadata": {},
   "outputs": [],
   "source": []
  }
 ],
 "metadata": {
  "kernelspec": {
   "display_name": "Python 3",
   "language": "python",
   "name": "python3"
  },
  "language_info": {
   "codemirror_mode": {
    "name": "ipython",
    "version": 3
   },
   "file_extension": ".py",
   "mimetype": "text/x-python",
   "name": "python",
   "nbconvert_exporter": "python",
   "pygments_lexer": "ipython3",
   "version": "3.7.1"
  }
 },
 "nbformat": 4,
 "nbformat_minor": 2
}
