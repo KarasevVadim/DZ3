{
 "cells": [
  {
   "cell_type": "code",
   "execution_count": 234,
   "metadata": {},
   "outputs": [],
   "source": [
    "#В примере поиска с помощью кортежей мы использовали 3 столбца. \n",
    "#Напишите функцию, которая формирует словарь для поиска по n столбцам.\n",
    "# -----------------------------------------------------------------------------\n",
    "# я сознательно просто повторил код с урока и внес в него требуемые изменения.\n",
    "# понятно, что объединить необх строки кода и объявить его как функцию с передачей ей\n",
    "# значения line_to_find, не проблема"
   ]
  },
  {
   "cell_type": "code",
   "execution_count": 235,
   "metadata": {},
   "outputs": [
    {
     "name": "stdout",
     "output_type": "stream",
     "text": [
      "2\n"
     ]
    }
   ],
   "source": [
    "line_to_find = ('22', '20557')\n",
    "#выбираем как N длину искомого списка\n",
    "n=len(line_to_find)\n",
    "print(n)"
   ]
  },
  {
   "cell_type": "code",
   "execution_count": 236,
   "metadata": {},
   "outputs": [],
   "source": [
    "#взял два столбца для поиска выбранные из вырезки в последнем блоке кода"
   ]
  },
  {
   "cell_type": "code",
   "execution_count": 237,
   "metadata": {},
   "outputs": [],
   "source": [
    "stats_dict = {}\n",
    "\n",
    "with open('stats.csv') as f:\n",
    "    for line in f:\n",
    "        line = line.strip().split(',')\n",
    "# в строке ниже просто заменил 3(при поиске по 3м столбцам) на n\n",
    "#согласен, что немного поленился и не подумал как подбирать значение из последнего или любого столбца\n",
    "#но это в задании и не оговаривалось. Полагаю разумно это значение передавать в функцию как второй параметр.\n",
    "#тогда все просто\n",
    "        stats_dict[tuple(line[:n])] = line[n]"
   ]
  },
  {
   "cell_type": "code",
   "execution_count": 238,
   "metadata": {},
   "outputs": [
    {
     "name": "stdout",
     "output_type": "stream",
     "text": [
      "('14', '26376') 3\n"
     ]
    }
   ],
   "source": [
    "for key, value in stats_dict.items():\n",
    "    print(key, value)\n",
    "    break"
   ]
  },
  {
   "cell_type": "code",
   "execution_count": 239,
   "metadata": {},
   "outputs": [
    {
     "name": "stdout",
     "output_type": "stream",
     "text": [
      "2\n",
      "Wall time: 1.5 ms\n"
     ]
    }
   ],
   "source": [
    "%%time\n",
    "for i in range(10**4):\n",
    "    cost = stats_dict[line_to_find]\n",
    "    \n",
    "print(cost)\n"
   ]
  },
  {
   "cell_type": "code",
   "execution_count": 240,
   "metadata": {},
   "outputs": [],
   "source": [
    "#ниже техническая вырезка для подбора альтернативных строк, отличных от примера на уроке"
   ]
  },
  {
   "cell_type": "code",
   "execution_count": 241,
   "metadata": {},
   "outputs": [
    {
     "data": {
      "text/plain": [
       "[['17', '5586', '4', '65297'],\n",
       " ['29', '4445', '5', '81376'],\n",
       " ['22', '20557', '2', '46618'],\n",
       " ['17', '9903', '1', '79101'],\n",
       " ['31', '25201', '2', '81229']]"
      ]
     },
     "execution_count": 241,
     "metadata": {},
     "output_type": "execute_result"
    }
   ],
   "source": [
    "with open('stats.csv') as f:\n",
    "    for line in f:\n",
    "        line = line.strip().split(',')\n",
    "        stats_list.append(line)\n",
    "        \n",
    "stats_list[1000:1005]\n"
   ]
  },
  {
   "cell_type": "code",
   "execution_count": null,
   "metadata": {},
   "outputs": [],
   "source": []
  },
  {
   "cell_type": "code",
   "execution_count": null,
   "metadata": {},
   "outputs": [],
   "source": []
  }
 ],
 "metadata": {
  "kernelspec": {
   "display_name": "Python 3",
   "language": "python",
   "name": "python3"
  },
  "language_info": {
   "codemirror_mode": {
    "name": "ipython",
    "version": 3
   },
   "file_extension": ".py",
   "mimetype": "text/x-python",
   "name": "python",
   "nbconvert_exporter": "python",
   "pygments_lexer": "ipython3",
   "version": "3.7.1"
  }
 },
 "nbformat": 4,
 "nbformat_minor": 2
}
